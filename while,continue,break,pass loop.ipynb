{
  "nbformat": 4,
  "nbformat_minor": 0,
  "metadata": {
    "colab": {
      "provenance": [],
      "authorship_tag": "ABX9TyMtuoavv/hkCTIvbEyt65Sa",
      "include_colab_link": true
    },
    "kernelspec": {
      "name": "python3",
      "display_name": "Python 3"
    },
    "language_info": {
      "name": "python"
    }
  },
  "cells": [
    {
      "cell_type": "markdown",
      "metadata": {
        "id": "view-in-github",
        "colab_type": "text"
      },
      "source": [
        "<a href=\"https://colab.research.google.com/github/vishwa-2311/Data-Science/blob/Python-Learnings/while%2Ccontinue%2Cbreak%2Cpass%20loop.ipynb\" target=\"_parent\"><img src=\"https://colab.research.google.com/assets/colab-badge.svg\" alt=\"Open In Colab\"/></a>"
      ]
    },
    {
      "cell_type": "code",
      "execution_count": 1,
      "metadata": {
        "colab": {
          "base_uri": "https://localhost:8080/"
        },
        "id": "ga5FB-W5s5IW",
        "outputId": "5c9d27b2-e2a4-4965-f177-20c82ac83313"
      },
      "outputs": [
        {
          "output_type": "stream",
          "name": "stdout",
          "text": [
            "1000\n",
            "900\n",
            "800\n",
            "700\n",
            "600\n",
            "500\n",
            "400\n",
            "300\n",
            "200\n",
            "100\n"
          ]
        }
      ],
      "source": [
        "total_amount=1000\n",
        "while total_amount!=0:\n",
        "  print(total_amount)\n",
        "  total_amount=total_amount-100"
      ]
    },
    {
      "cell_type": "code",
      "source": [
        "total_amount=1000\n",
        "while total_amount!=0:\n",
        "  print(total_amount)\n",
        "  total_amount=total_amount-100\n",
        "else:\n",
        "    print(\"Paisa bharo bank waalo\")"
      ],
      "metadata": {
        "colab": {
          "base_uri": "https://localhost:8080/"
        },
        "id": "dsbrtnpdtJ9B",
        "outputId": "d20569c9-5e4b-430a-83ca-43e7a73aaa01"
      },
      "execution_count": 2,
      "outputs": [
        {
          "output_type": "stream",
          "name": "stdout",
          "text": [
            "1000\n",
            "900\n",
            "800\n",
            "700\n",
            "600\n",
            "500\n",
            "400\n",
            "300\n",
            "200\n",
            "100\n",
            "Paisa bharo bank waalo\n"
          ]
        }
      ]
    },
    {
      "cell_type": "code",
      "source": [
        "total_amount=10000\n",
        "while total_amount!=0:\n",
        "  print(total_amount)\n",
        "  total_amount=total_amount-1000\n",
        "else:\n",
        "  print(\"Paisa bhardo bank walo ATM me\")\n",
        "print(\"otherwise I will migrate to some other bank\")"
      ],
      "metadata": {
        "colab": {
          "base_uri": "https://localhost:8080/"
        },
        "id": "EvEn0T0ftmV_",
        "outputId": "d6fb0dbd-d461-4127-9ea0-cc20679ff855"
      },
      "execution_count": 3,
      "outputs": [
        {
          "output_type": "stream",
          "name": "stdout",
          "text": [
            "10000\n",
            "9000\n",
            "8000\n",
            "7000\n",
            "6000\n",
            "5000\n",
            "4000\n",
            "3000\n",
            "2000\n",
            "1000\n",
            "Paisa bhardo bank walo ATM me\n",
            "otherwise I will migrate to some other bank\n"
          ]
        }
      ]
    },
    {
      "cell_type": "code",
      "source": [
        "##for loops"
      ],
      "metadata": {
        "id": "kwFkrAvXuQya"
      },
      "execution_count": 4,
      "outputs": []
    },
    {
      "cell_type": "code",
      "source": [
        "lst=[1,2,3,4,\"apple\",\"banana\",5+4j]"
      ],
      "metadata": {
        "id": "PQ_QBHXoucH2"
      },
      "execution_count": 5,
      "outputs": []
    },
    {
      "cell_type": "code",
      "source": [
        "type(lst)"
      ],
      "metadata": {
        "colab": {
          "base_uri": "https://localhost:8080/"
        },
        "id": "LXodfpq2u6lY",
        "outputId": "06f6d516-bb73-4385-e585-175870016f4d"
      },
      "execution_count": 6,
      "outputs": [
        {
          "output_type": "execute_result",
          "data": {
            "text/plain": [
              "list"
            ]
          },
          "metadata": {},
          "execution_count": 6
        }
      ]
    },
    {
      "cell_type": "code",
      "source": [
        "lst[0]"
      ],
      "metadata": {
        "colab": {
          "base_uri": "https://localhost:8080/"
        },
        "id": "5mzh-oPEu_rz",
        "outputId": "90a0f50c-e740-496a-eba9-49ba23a515df"
      },
      "execution_count": 7,
      "outputs": [
        {
          "output_type": "execute_result",
          "data": {
            "text/plain": [
              "1"
            ]
          },
          "metadata": {},
          "execution_count": 7
        }
      ]
    },
    {
      "cell_type": "code",
      "source": [
        "lst[4]"
      ],
      "metadata": {
        "colab": {
          "base_uri": "https://localhost:8080/",
          "height": 36
        },
        "id": "xbrfTmhevHXL",
        "outputId": "340943d8-0854-4364-fddf-ac6264624c92"
      },
      "execution_count": 8,
      "outputs": [
        {
          "output_type": "execute_result",
          "data": {
            "text/plain": [
              "'apple'"
            ],
            "application/vnd.google.colaboratory.intrinsic+json": {
              "type": "string"
            }
          },
          "metadata": {},
          "execution_count": 8
        }
      ]
    },
    {
      "cell_type": "code",
      "source": [
        "lst"
      ],
      "metadata": {
        "colab": {
          "base_uri": "https://localhost:8080/"
        },
        "id": "se96wd61vIjy",
        "outputId": "feff6582-9e63-45c2-b5fb-82beb062186c"
      },
      "execution_count": 9,
      "outputs": [
        {
          "output_type": "execute_result",
          "data": {
            "text/plain": [
              "[1, 2, 3, 4, 'apple', 'banana', (5+4j)]"
            ]
          },
          "metadata": {},
          "execution_count": 9
        }
      ]
    },
    {
      "cell_type": "code",
      "source": [
        "for x in lst:\n",
        "  print(x)"
      ],
      "metadata": {
        "colab": {
          "base_uri": "https://localhost:8080/"
        },
        "id": "MSkLOscUvNSz",
        "outputId": "35c39469-5fe2-4308-9148-e12b9c59251a"
      },
      "execution_count": 10,
      "outputs": [
        {
          "output_type": "stream",
          "name": "stdout",
          "text": [
            "1\n",
            "2\n",
            "3\n",
            "4\n",
            "apple\n",
            "banana\n",
            "(5+4j)\n"
          ]
        }
      ]
    },
    {
      "cell_type": "code",
      "source": [
        "fruit_list=[\"apple\",\"banana\",\"citrus fruits\",\"cherry\",\"orange\",\"mango\",\"papaya\"]"
      ],
      "metadata": {
        "id": "ruSOtaUFvaVZ"
      },
      "execution_count": 11,
      "outputs": []
    },
    {
      "cell_type": "code",
      "source": [
        "for y in fruit_list:\n",
        "  print(y)\n",
        "  if y==\"cherry\":\n",
        "    print(\"you can have this fruit\")"
      ],
      "metadata": {
        "colab": {
          "base_uri": "https://localhost:8080/"
        },
        "id": "PmwlRORwv2z2",
        "outputId": "49b72b3f-eb11-46b7-ac79-f1822eb285d1"
      },
      "execution_count": 12,
      "outputs": [
        {
          "output_type": "stream",
          "name": "stdout",
          "text": [
            "apple\n",
            "banana\n",
            "citrus fruits\n",
            "cherry\n",
            "you can have this fruit\n",
            "orange\n",
            "mango\n",
            "papaya\n"
          ]
        }
      ]
    },
    {
      "cell_type": "code",
      "source": [
        "fruit='mango'\n",
        "for x in fruit:\n",
        "  print(x)"
      ],
      "metadata": {
        "colab": {
          "base_uri": "https://localhost:8080/"
        },
        "id": "imCYqPdGw25v",
        "outputId": "4ea55780-17ac-4d10-a74b-7373ac53041c"
      },
      "execution_count": 13,
      "outputs": [
        {
          "output_type": "stream",
          "name": "stdout",
          "text": [
            "m\n",
            "a\n",
            "n\n",
            "g\n",
            "o\n"
          ]
        }
      ]
    },
    {
      "cell_type": "code",
      "source": [
        "fruit[0]"
      ],
      "metadata": {
        "colab": {
          "base_uri": "https://localhost:8080/",
          "height": 36
        },
        "id": "TgdWYMt8xQEU",
        "outputId": "581036b1-7db1-43d6-d840-0488ae12e577"
      },
      "execution_count": 14,
      "outputs": [
        {
          "output_type": "execute_result",
          "data": {
            "text/plain": [
              "'m'"
            ],
            "application/vnd.google.colaboratory.intrinsic+json": {
              "type": "string"
            }
          },
          "metadata": {},
          "execution_count": 14
        }
      ]
    },
    {
      "cell_type": "code",
      "source": [
        "fruit[2]"
      ],
      "metadata": {
        "colab": {
          "base_uri": "https://localhost:8080/",
          "height": 36
        },
        "id": "EBXOqx9zxS_x",
        "outputId": "453e2c2c-3d3d-4bac-acb2-7ea8d15323e6"
      },
      "execution_count": 15,
      "outputs": [
        {
          "output_type": "execute_result",
          "data": {
            "text/plain": [
              "'n'"
            ],
            "application/vnd.google.colaboratory.intrinsic+json": {
              "type": "string"
            }
          },
          "metadata": {},
          "execution_count": 15
        }
      ]
    },
    {
      "cell_type": "code",
      "source": [
        "fruit='pineapple'\n",
        "for a in fruit:\n",
        "  print(a,end='')"
      ],
      "metadata": {
        "colab": {
          "base_uri": "https://localhost:8080/"
        },
        "id": "Aj5FfMhcxULb",
        "outputId": "5eb00b40-02ae-4f02-c1e9-d950df3b1b21"
      },
      "execution_count": 16,
      "outputs": [
        {
          "output_type": "stream",
          "name": "stdout",
          "text": [
            "pineapple"
          ]
        }
      ]
    },
    {
      "cell_type": "code",
      "source": [
        "##NESTED LOOPS"
      ],
      "metadata": {
        "id": "3f1Qd-kbxxms"
      },
      "execution_count": 17,
      "outputs": []
    },
    {
      "cell_type": "code",
      "source": [
        "n=7"
      ],
      "metadata": {
        "id": "qOrdAJS1x35s"
      },
      "execution_count": 18,
      "outputs": []
    },
    {
      "cell_type": "code",
      "source": [
        "range(1,10)"
      ],
      "metadata": {
        "colab": {
          "base_uri": "https://localhost:8080/"
        },
        "id": "JEBuyJJMx_bW",
        "outputId": "a3b1d248-bbc8-473e-87eb-40107396ba53"
      },
      "execution_count": 19,
      "outputs": [
        {
          "output_type": "execute_result",
          "data": {
            "text/plain": [
              "range(1, 10)"
            ]
          },
          "metadata": {},
          "execution_count": 19
        }
      ]
    },
    {
      "cell_type": "code",
      "source": [
        "for i in range(1,10):\n",
        "  print(i)"
      ],
      "metadata": {
        "colab": {
          "base_uri": "https://localhost:8080/"
        },
        "id": "fZOm_Ma3yIS4",
        "outputId": "c5b39006-8d67-4c1e-8387-e9afa382d387"
      },
      "execution_count": 20,
      "outputs": [
        {
          "output_type": "stream",
          "name": "stdout",
          "text": [
            "1\n",
            "2\n",
            "3\n",
            "4\n",
            "5\n",
            "6\n",
            "7\n",
            "8\n",
            "9\n"
          ]
        }
      ]
    },
    {
      "cell_type": "code",
      "source": [
        "for i in range(1,10,2):\n",
        "  print(i)"
      ],
      "metadata": {
        "colab": {
          "base_uri": "https://localhost:8080/"
        },
        "id": "aEcBAM6yyN1Q",
        "outputId": "405ca13c-c46c-4bde-98fb-d91773ede350"
      },
      "execution_count": 21,
      "outputs": [
        {
          "output_type": "stream",
          "name": "stdout",
          "text": [
            "1\n",
            "3\n",
            "5\n",
            "7\n",
            "9\n"
          ]
        }
      ]
    },
    {
      "cell_type": "code",
      "source": [
        "## nested loops"
      ],
      "metadata": {
        "id": "w6LG9KcmyYjT"
      },
      "execution_count": 22,
      "outputs": []
    },
    {
      "cell_type": "code",
      "source": [
        "n=7\n",
        "for i in range(0,n):\n",
        "  for j in range(0,i+1):\n",
        "    print(\"*\",end=\"\")"
      ],
      "metadata": {
        "colab": {
          "base_uri": "https://localhost:8080/"
        },
        "id": "rqPxrfZpyfrZ",
        "outputId": "f2db05dc-90ce-4345-a403-d24d8df984f2"
      },
      "execution_count": 23,
      "outputs": [
        {
          "output_type": "stream",
          "name": "stdout",
          "text": [
            "****************************"
          ]
        }
      ]
    },
    {
      "cell_type": "code",
      "source": [
        "n=5\n",
        "for i in range(0,n):\n",
        "  for j in range(0,i+1):\n",
        "    print(\"*\",end=\"\")\n",
        "  print(\"\\r\")"
      ],
      "metadata": {
        "colab": {
          "base_uri": "https://localhost:8080/"
        },
        "id": "zs3tp8y7zRUj",
        "outputId": "daf29bfe-6d8e-4c19-d241-b9c77d2eae9d"
      },
      "execution_count": 24,
      "outputs": [
        {
          "output_type": "stream",
          "name": "stdout",
          "text": [
            "*\r\n",
            "**\r\n",
            "***\r\n",
            "****\r\n",
            "*****\r\n"
          ]
        }
      ]
    },
    {
      "cell_type": "code",
      "source": [
        "for i in fruit_list:\n",
        "  print(i)"
      ],
      "metadata": {
        "colab": {
          "base_uri": "https://localhost:8080/"
        },
        "id": "ONAL1K3vzo6s",
        "outputId": "b9a6e30a-63be-46d6-cc4f-cd5009f9e1a3"
      },
      "execution_count": 27,
      "outputs": [
        {
          "output_type": "stream",
          "name": "stdout",
          "text": [
            "apple\n",
            "banana\n",
            "citrus fruits\n",
            "cherry\n",
            "orange\n",
            "mango\n",
            "papaya\n"
          ]
        }
      ]
    },
    {
      "cell_type": "code",
      "source": [
        "for i in fruit_list:\n",
        "  if i=='mango':\n",
        "    print(\"The fruit is apple\")\n",
        "    break\n",
        "  print(i)"
      ],
      "metadata": {
        "colab": {
          "base_uri": "https://localhost:8080/"
        },
        "id": "a-5DE0l2R4cg",
        "outputId": "b654d6f8-9328-4fbb-9c31-ddd69abc8057"
      },
      "execution_count": 30,
      "outputs": [
        {
          "output_type": "stream",
          "name": "stdout",
          "text": [
            "apple\n",
            "banana\n",
            "citrus fruits\n",
            "cherry\n",
            "orange\n",
            "The fruit is apple\n"
          ]
        }
      ]
    },
    {
      "cell_type": "code",
      "source": [
        "##break = come out of loop\n",
        "for i in fruit_list:\n",
        "  if i=='mango':\n",
        "    print(\"the fruit is mango\")\n",
        "    continue\n",
        "  print(i)"
      ],
      "metadata": {
        "colab": {
          "base_uri": "https://localhost:8080/"
        },
        "id": "3R0gNeNYS9Mq",
        "outputId": "35967336-e475-4506-bf17-dd3ed03ad4b6"
      },
      "execution_count": 39,
      "outputs": [
        {
          "output_type": "stream",
          "name": "stdout",
          "text": [
            "apple\n",
            "banana\n",
            "citrus fruits\n",
            "cherry\n",
            "orange\n",
            "the fruit is mango\n",
            "papaya\n"
          ]
        }
      ]
    },
    {
      "cell_type": "code",
      "source": [
        "##Continue = skip the loop\n",
        "for i in fruit_list:\n",
        "  if i=='citrus fruit':\n",
        "    print(\"Didn't like the fruit\")\n",
        "  pass\n",
        "print(i)"
      ],
      "metadata": {
        "colab": {
          "base_uri": "https://localhost:8080/"
        },
        "id": "7rlnrkkkTX94",
        "outputId": "a6a7e162-7477-4e71-b66b-80da85883031"
      },
      "execution_count": 38,
      "outputs": [
        {
          "output_type": "stream",
          "name": "stdout",
          "text": [
            "papaya\n"
          ]
        }
      ]
    },
    {
      "cell_type": "code",
      "source": [
        "fruit_list"
      ],
      "metadata": {
        "colab": {
          "base_uri": "https://localhost:8080/"
        },
        "id": "mX9sfDeyTpPS",
        "outputId": "1483e6aa-26c0-4d1d-f37c-6fa62b3c4491"
      },
      "execution_count": 36,
      "outputs": [
        {
          "output_type": "execute_result",
          "data": {
            "text/plain": [
              "['apple', 'banana', 'citrus fruits', 'cherry', 'orange', 'mango', 'papaya']"
            ]
          },
          "metadata": {},
          "execution_count": 36
        }
      ]
    },
    {
      "cell_type": "code",
      "source": [
        "for i in fruit_list:\n",
        "  if i==\"cherry\":\n",
        "    print(\"Cherry is out of range\")\n",
        "    pass\n",
        "  print(i)"
      ],
      "metadata": {
        "colab": {
          "base_uri": "https://localhost:8080/"
        },
        "id": "7sSKzI5LT3m4",
        "outputId": "8a1dcdbb-46f7-4e2e-9c9a-078a696cc99e"
      },
      "execution_count": 37,
      "outputs": [
        {
          "output_type": "stream",
          "name": "stdout",
          "text": [
            "apple\n",
            "banana\n",
            "citrus fruits\n",
            "Cherry is out of range\n",
            "cherry\n",
            "orange\n",
            "mango\n",
            "papaya\n"
          ]
        }
      ]
    },
    {
      "cell_type": "code",
      "source": [],
      "metadata": {
        "id": "VxH7AMpzUEtK"
      },
      "execution_count": null,
      "outputs": []
    }
  ]
}