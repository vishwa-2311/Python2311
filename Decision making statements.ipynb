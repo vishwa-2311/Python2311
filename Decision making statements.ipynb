{
  "nbformat": 4,
  "nbformat_minor": 0,
  "metadata": {
    "colab": {
      "provenance": [],
      "authorship_tag": "ABX9TyNL2UvBGHlPTNG4i+gnPxFh",
      "include_colab_link": true
    },
    "kernelspec": {
      "name": "python3",
      "display_name": "Python 3"
    },
    "language_info": {
      "name": "python"
    }
  },
  "cells": [
    {
      "cell_type": "markdown",
      "metadata": {
        "id": "view-in-github",
        "colab_type": "text"
      },
      "source": [
        "<a href=\"https://colab.research.google.com/github/vishwa-2311/Data-Science/blob/Python-Learnings/Decision%20making%20statements.ipynb\" target=\"_parent\"><img src=\"https://colab.research.google.com/assets/colab-badge.svg\" alt=\"Open In Colab\"/></a>"
      ]
    },
    {
      "cell_type": "code",
      "execution_count": 1,
      "metadata": {
        "id": "jKimrbB1HSZj"
      },
      "outputs": [],
      "source": [
        "a=10"
      ]
    },
    {
      "cell_type": "code",
      "source": [
        "a='c'"
      ],
      "metadata": {
        "id": "p-_jDAbQJCjK"
      },
      "execution_count": 2,
      "outputs": []
    },
    {
      "cell_type": "code",
      "source": [
        "type(a)"
      ],
      "metadata": {
        "colab": {
          "base_uri": "https://localhost:8080/"
        },
        "id": "06mVHo0fJYP5",
        "outputId": "060fddb2-5dc9-4283-edae-8f1806c9bae5"
      },
      "execution_count": 3,
      "outputs": [
        {
          "output_type": "execute_result",
          "data": {
            "text/plain": [
              "str"
            ]
          },
          "metadata": {},
          "execution_count": 3
        }
      ]
    },
    {
      "cell_type": "code",
      "source": [
        "int()"
      ],
      "metadata": {
        "colab": {
          "base_uri": "https://localhost:8080/"
        },
        "id": "7exmVg6mJZvM",
        "outputId": "1c38dd91-3ff2-42a3-8dbb-6ad301ae011a"
      },
      "execution_count": 4,
      "outputs": [
        {
          "output_type": "execute_result",
          "data": {
            "text/plain": [
              "0"
            ]
          },
          "metadata": {},
          "execution_count": 4
        }
      ]
    },
    {
      "cell_type": "code",
      "source": [
        "int('123')"
      ],
      "metadata": {
        "colab": {
          "base_uri": "https://localhost:8080/"
        },
        "id": "9lKoqWQ-JpkH",
        "outputId": "ebc28063-c49c-4336-acd0-f107fbb2ffba"
      },
      "execution_count": 5,
      "outputs": [
        {
          "output_type": "execute_result",
          "data": {
            "text/plain": [
              "123"
            ]
          },
          "metadata": {},
          "execution_count": 5
        }
      ]
    },
    {
      "cell_type": "code",
      "source": [
        "int('asdf')"
      ],
      "metadata": {
        "colab": {
          "base_uri": "https://localhost:8080/",
          "height": 145
        },
        "id": "a_X62HLmJtMf",
        "outputId": "7ac8a64b-18bb-4572-ae4d-1413407aa970"
      },
      "execution_count": 6,
      "outputs": [
        {
          "output_type": "error",
          "ename": "ValueError",
          "evalue": "invalid literal for int() with base 10: 'asdf'",
          "traceback": [
            "\u001b[0;31m---------------------------------------------------------------------------\u001b[0m",
            "\u001b[0;31mValueError\u001b[0m                                Traceback (most recent call last)",
            "\u001b[0;32m/tmp/ipython-input-6-861466154.py\u001b[0m in \u001b[0;36m<cell line: 0>\u001b[0;34m()\u001b[0m\n\u001b[0;32m----> 1\u001b[0;31m \u001b[0mint\u001b[0m\u001b[0;34m(\u001b[0m\u001b[0;34m'asdf'\u001b[0m\u001b[0;34m)\u001b[0m\u001b[0;34m\u001b[0m\u001b[0;34m\u001b[0m\u001b[0m\n\u001b[0m",
            "\u001b[0;31mValueError\u001b[0m: invalid literal for int() with base 10: 'asdf'"
          ]
        }
      ]
    },
    {
      "cell_type": "code",
      "source": [
        "print('hello world')"
      ],
      "metadata": {
        "id": "BRnzIOFWJ1O_"
      },
      "execution_count": null,
      "outputs": []
    },
    {
      "cell_type": "code",
      "source": [
        "print(124)"
      ],
      "metadata": {
        "id": "00B73k_5KIsD"
      },
      "execution_count": null,
      "outputs": []
    },
    {
      "cell_type": "code",
      "source": [
        "print(\"hello world\")"
      ],
      "metadata": {
        "id": "zDXIKUHhKK1k"
      },
      "execution_count": null,
      "outputs": []
    },
    {
      "cell_type": "code",
      "source": [
        "age=27\n",
        "print(\"my age is:\",age)"
      ],
      "metadata": {
        "id": "oAHLPw6eKYli"
      },
      "execution_count": null,
      "outputs": []
    },
    {
      "cell_type": "code",
      "source": [
        "##f string for formating\n",
        "print(f\"my age is: {age}\")"
      ],
      "metadata": {
        "id": "qaxHK0xCKkkY"
      },
      "execution_count": null,
      "outputs": []
    },
    {
      "cell_type": "code",
      "source": [
        "## .format()\n",
        "name=\"vishwa\"\n",
        "age=32\n",
        "print(\"my name is {} and age is {}\".format(name,age))"
      ],
      "metadata": {
        "id": "nXW9uBAiKvUE"
      },
      "execution_count": null,
      "outputs": []
    },
    {
      "cell_type": "code",
      "source": [
        "print(\"my name is {} and age is {}\".format(age,name))"
      ],
      "metadata": {
        "id": "5h_5ZlLCLm_4"
      },
      "execution_count": null,
      "outputs": []
    },
    {
      "cell_type": "code",
      "source": [
        "##plceholder\n",
        "print(\"my name is {firstname} and my age is {firstage}\".format(firstname=name,firstage=age))"
      ],
      "metadata": {
        "id": "iLa9J-ykLz4n"
      },
      "execution_count": null,
      "outputs": []
    },
    {
      "cell_type": "code",
      "source": [
        "name=\" vishwa pratap\"\n",
        "age=27\n",
        "degree=\"B.Sc(H) Mathematics\"\n",
        "print(\"My age is {first} and I have My degree of {second} with the name of {third}\".format(first=age, second=degree,third=name))"
      ],
      "metadata": {
        "id": "ptQcfa2hMQDv"
      },
      "execution_count": null,
      "outputs": []
    },
    {
      "cell_type": "code",
      "source": [
        "print(f\"My age is {age} and I have completed my degree {degree} with the name of {name})\")"
      ],
      "metadata": {
        "id": "gWE5claFONrQ"
      },
      "execution_count": null,
      "outputs": []
    },
    {
      "cell_type": "code",
      "source": [
        "###Control Flow\n",
        "###Decision Making statements\n",
        "\"\"\"1.if\n",
        "2.if else\n",
        "3.if elif else\n",
        "4.Nested if\n",
        "5.Single statement suites\"\"\""
      ],
      "metadata": {
        "id": "CmcNZ9xBOq-Z"
      },
      "execution_count": null,
      "outputs": []
    },
    {
      "cell_type": "code",
      "source": [
        "# if statements\n",
        "age=18\n",
        "if age>=18:\n",
        "  print(\"you are eligible to vote\")"
      ],
      "metadata": {
        "id": "6KCB8-wVP8ck"
      },
      "execution_count": null,
      "outputs": []
    },
    {
      "cell_type": "code",
      "source": [
        "age=17\n",
        "if age<=18:\n",
        "  print(\"you are not eligible to vote\")"
      ],
      "metadata": {
        "id": "mTecWb_zQgTa"
      },
      "execution_count": null,
      "outputs": []
    },
    {
      "cell_type": "code",
      "source": [
        "input()"
      ],
      "metadata": {
        "id": "j31FZJTzQyzs"
      },
      "execution_count": null,
      "outputs": []
    },
    {
      "cell_type": "code",
      "source": [
        "age=int(input())"
      ],
      "metadata": {
        "id": "X53cOzYsXYx-"
      },
      "execution_count": null,
      "outputs": []
    },
    {
      "cell_type": "code",
      "source": [
        "age=int(input(\"enter age\"))\n",
        "if age >=18 and age <=45:\n",
        "  print(\"You are young blood\")"
      ],
      "metadata": {
        "id": "v3CZEjxVYUj4"
      },
      "execution_count": null,
      "outputs": []
    },
    {
      "cell_type": "code",
      "source": [
        "age=int(input(\"Enter the age\"))\n",
        "if age>=18 and age<=45:\n",
        "  print(\"You are young blood\")\n",
        "else:\n",
        "  print(\"nothing\")"
      ],
      "metadata": {
        "id": "rSGcjTEUYzd-"
      },
      "execution_count": null,
      "outputs": []
    },
    {
      "cell_type": "code",
      "source": [
        "age=int(input(\"Enter the age\"))\n",
        "if age>=18 and age<=45:\n",
        "  print(\"You are young blood\")\n",
        "else:\n",
        "  print(\"Thank You, We will let you know\")"
      ],
      "metadata": {
        "id": "BQ8AzzvpZapX"
      },
      "execution_count": null,
      "outputs": []
    },
    {
      "cell_type": "code",
      "source": [
        "productprice=int(input(\"the product price\"))\n",
        "if productprice>1000:\n",
        "  print(\"20% off\")\n",
        "print(productprice)\n",
        "if productprice<=1000:\n",
        "  print(\"30% off\")\n",
        "print(productprice)"
      ],
      "metadata": {
        "id": "Spe3IeePaz9s"
      },
      "execution_count": null,
      "outputs": []
    },
    {
      "cell_type": "code",
      "source": [
        "product_price=int(input(\"Enter the Price  \"))\n",
        "if product_price>1000:\n",
        "  print(\"The price of the product is {}\".format(product_price*0.8))\n",
        "else:\n",
        "  print(\"The price of the product is {}\".format(product_price-(product_price*0.3)))"
      ],
      "metadata": {
        "colab": {
          "base_uri": "https://localhost:8080/"
        },
        "id": "sRaLI5M8c3Vx",
        "outputId": "04e05fb3-09a4-40b7-b41c-bb51f58d068a"
      },
      "execution_count": 7,
      "outputs": [
        {
          "output_type": "stream",
          "name": "stdout",
          "text": [
            "Enter the Price  3000\n",
            "The price of the product is 2400.0\n"
          ]
        }
      ]
    },
    {
      "cell_type": "code",
      "source": [
        "20/100"
      ],
      "metadata": {
        "colab": {
          "base_uri": "https://localhost:8080/"
        },
        "id": "osjNFIOeeini",
        "outputId": "f1519c60-ac28-4a4a-8197-5a2a0c624689"
      },
      "execution_count": 16,
      "outputs": [
        {
          "output_type": "execute_result",
          "data": {
            "text/plain": [
              "0.2"
            ]
          },
          "metadata": {},
          "execution_count": 16
        }
      ]
    },
    {
      "cell_type": "code",
      "source": [
        "int(0.2*5000)"
      ],
      "metadata": {
        "colab": {
          "base_uri": "https://localhost:8080/"
        },
        "id": "JdZ6Ab7LessD",
        "outputId": "a540bb6a-42e1-40da-9007-5f1ab3a23f3f"
      },
      "execution_count": 17,
      "outputs": [
        {
          "output_type": "execute_result",
          "data": {
            "text/plain": [
              "1000"
            ]
          },
          "metadata": {},
          "execution_count": 17
        }
      ]
    },
    {
      "cell_type": "code",
      "source": [
        "5000-1000"
      ],
      "metadata": {
        "colab": {
          "base_uri": "https://localhost:8080/"
        },
        "id": "O_8AD9aeeung",
        "outputId": "ed958738-cd62-4280-fc72-fe6982292914"
      },
      "execution_count": 18,
      "outputs": [
        {
          "output_type": "execute_result",
          "data": {
            "text/plain": [
              "4000"
            ]
          },
          "metadata": {},
          "execution_count": 18
        }
      ]
    },
    {
      "cell_type": "code",
      "source": [
        "int((20/100)*2500)"
      ],
      "metadata": {
        "colab": {
          "base_uri": "https://localhost:8080/"
        },
        "id": "nHCE3W16ewEL",
        "outputId": "c44f130e-d61b-4b8f-f5cb-5c7a1de4c0ce"
      },
      "execution_count": 19,
      "outputs": [
        {
          "output_type": "execute_result",
          "data": {
            "text/plain": [
              "500"
            ]
          },
          "metadata": {},
          "execution_count": 19
        }
      ]
    },
    {
      "cell_type": "code",
      "source": [
        "product_price=int(input(\"Enter the pice of Product  \"))\n",
        "if product_price>3000:\n",
        "  print(\"The price of the product is {}\".format(product_price*0.8))\n",
        "elif product_price >=2000 and product_price <=3000:\n",
        "  print(\"The price of the product is {}\".format(product_price*0.7))\n",
        "elif product_price >=1000 and product_price <=2000:\n",
        "  print(\"The price of the product is {}\".format(product_price-(product_price*0.4)))"
      ],
      "metadata": {
        "colab": {
          "base_uri": "https://localhost:8080/"
        },
        "id": "qkvp3c7ffEoL",
        "outputId": "f977c362-10a9-4f70-e980-7b7672aca5e7"
      },
      "execution_count": 12,
      "outputs": [
        {
          "output_type": "stream",
          "name": "stdout",
          "text": [
            "Enter the pice of Product  4000\n",
            "The price of the product is 3200.0\n"
          ]
        }
      ]
    },
    {
      "cell_type": "code",
      "source": [
        "product_price=int(input(\"Enter the pice of Product  \"))\n",
        "if product_price>3000:\n",
        "  print(\"The price of the product is {}\".format(product_price*0.8))\n",
        "elif product_price >=2000 and product_price <=3000:\n",
        "  print(\"The price of the product is {}\".format(product_price*0.7))\n",
        "elif product_price >=1000 and product_price <=2000:\n",
        "  print(\"The price of the product is {}\".format(product_price-(product_price*0.4)))"
      ],
      "metadata": {
        "colab": {
          "base_uri": "https://localhost:8080/"
        },
        "id": "1Zdp-jAwh4tW",
        "outputId": "87dcc918-ca1a-4295-9948-82bcca700607"
      },
      "execution_count": 13,
      "outputs": [
        {
          "output_type": "stream",
          "name": "stdout",
          "text": [
            "Enter the pice of Product  2000\n",
            "The price of the product is 1400.0\n"
          ]
        }
      ]
    },
    {
      "cell_type": "code",
      "source": [
        "product_price=int(input(\"Enter the pice of Product  \"))\n",
        "if product_price>3000:\n",
        "  print(\"The price of the product is {}\".format(product_price*0.8))\n",
        "elif product_price >=2000 and product_price <=3000:\n",
        "  print(\"The price of the product is {}\".format(product_price*0.7))\n",
        "elif product_price >=1000 and product_price <=2000:\n",
        "  print(\"The price of the product is {}\".format(product_price-(product_price*0.4)))"
      ],
      "metadata": {
        "colab": {
          "base_uri": "https://localhost:8080/"
        },
        "id": "1qCCqUHYiWs_",
        "outputId": "64d1f852-4e4f-431c-ee86-f7bbdea2f455"
      },
      "execution_count": 14,
      "outputs": [
        {
          "output_type": "stream",
          "name": "stdout",
          "text": [
            "Enter the pice of Product  1500\n",
            "The price of the product is 900.0\n"
          ]
        }
      ]
    },
    {
      "cell_type": "code",
      "source": [
        "product_price=int(input(\"Enter the pice of Product  \"))\n",
        "if product_price>3000:\n",
        "  print(\"The price of the product is {}\".format(product_price*0.8))\n",
        "elif product_price >=2000 and product_price <=3000:\n",
        "  print(\"The price of the product is {}\".format(product_price*0.7))\n",
        "elif product_price >=1000 and product_price <=2000:\n",
        "  print(\"The price of the product is {}\".format(product_price-(product_price*0.4)))"
      ],
      "metadata": {
        "colab": {
          "base_uri": "https://localhost:8080/"
        },
        "id": "ZPBpjVdGihFH",
        "outputId": "5ec629fa-1ddc-438e-a9fa-1997be089d74"
      },
      "execution_count": 15,
      "outputs": [
        {
          "output_type": "stream",
          "name": "stdout",
          "text": [
            "Enter the pice of Product  3000\n",
            "The price of the product is 2100.0\n"
          ]
        }
      ]
    },
    {
      "cell_type": "code",
      "source": [
        "product_price=int(input(\"Enter the price of the product  \"))\n",
        "if product_price>3000:\n",
        "  print(\"the price of the product is {}\".format(product_price*0.8))\n",
        "elif product_price>=2000 and product_price<=3000:\n",
        "  print(\"The price of the product is {product_price*0.7}\")\n",
        "else:\n",
        "  print(f\"The price of the product is:\", product_price*0.6)"
      ],
      "metadata": {
        "colab": {
          "base_uri": "https://localhost:8080/"
        },
        "id": "6WCefdiVik7-",
        "outputId": "64f5568a-cb17-4522-902d-46760a528c57"
      },
      "execution_count": 22,
      "outputs": [
        {
          "output_type": "stream",
          "name": "stdout",
          "text": [
            "Enter the price of the product  1500\n",
            "The price of the product is: 900.0\n"
          ]
        }
      ]
    },
    {
      "cell_type": "code",
      "source": [
        "product_price=int(input(\"Enter the price of the product  \"))\n",
        "if product_price>3000:\n",
        "  print(\"The price of the product is {product_price*0.8}\")\n",
        "elif product_price>=2000 and product_price<=3000:\n",
        "  print(\"The price of the product is {}\".format(product_price*0.7))\n",
        "elif product_price>=1000 and product_price<=2000:\n",
        "  print(f\"The product price is \",product_price*0.6)\n",
        "else:\n",
        "  print(\"You can only have tea that too on credit\")"
      ],
      "metadata": {
        "colab": {
          "base_uri": "https://localhost:8080/"
        },
        "id": "8VDGXr99W1jd",
        "outputId": "adfa41ae-965c-4bb0-ea76-1154fd04b105"
      },
      "execution_count": 24,
      "outputs": [
        {
          "output_type": "stream",
          "name": "stdout",
          "text": [
            "Enter the price of the product  500\n",
            "You can only have tea that too on credit\n"
          ]
        }
      ]
    },
    {
      "cell_type": "code",
      "source": [
        "product_price=int(input(\"Enter the price of the product \"))\n",
        "if product_price>=3000:\n",
        "  print(\"The price of the product is {}\".format(product_price*0.8))\n",
        "elif product_price>=2000 and product_price<=3000:\n",
        "  if product_price==2999:\n",
        "    print(\"Congratulations, you get an additional gift\")\n",
        "  print(\"The price of the product is {}\".format(product_price*0.7))\n",
        "elif product_price>=1000 and product_price<=2000:\n",
        "  print(f\"The price of the product is \", {product_price})\n",
        "else:\n",
        "  print(\"The product is out of your range\")"
      ],
      "metadata": {
        "colab": {
          "base_uri": "https://localhost:8080/"
        },
        "id": "g77Xyj7CY38K",
        "outputId": "7bfc2570-3551-40f2-9b89-c3e0d1339874"
      },
      "execution_count": 28,
      "outputs": [
        {
          "output_type": "stream",
          "name": "stdout",
          "text": [
            "Enter the price of the product 2999\n",
            "Congratulations, you get an additional gift\n",
            "The price of the product is 2099.2999999999997\n"
          ]
        }
      ]
    },
    {
      "cell_type": "code",
      "source": [
        "##comparision opertor\n",
        "True==True"
      ],
      "metadata": {
        "colab": {
          "base_uri": "https://localhost:8080/"
        },
        "id": "xvUjXyIvbCfU",
        "outputId": "91d89fe1-109c-431b-f627-db7d871a6aff"
      },
      "execution_count": 29,
      "outputs": [
        {
          "output_type": "execute_result",
          "data": {
            "text/plain": [
              "True"
            ]
          },
          "metadata": {},
          "execution_count": 29
        }
      ]
    },
    {
      "cell_type": "code",
      "source": [
        "##single statement suites\n",
        "val=int(input(\"Enter the number\"))\n",
        "if(val<=999):print(\"Value is less than eual to 999\")"
      ],
      "metadata": {
        "colab": {
          "base_uri": "https://localhost:8080/"
        },
        "id": "pb1c8S5SbGSJ",
        "outputId": "e71cdc04-e301-4cbb-baf5-9f6b13755577"
      },
      "execution_count": 33,
      "outputs": [
        {
          "output_type": "stream",
          "name": "stdout",
          "text": [
            "Enter the number500\n",
            "Value is less than eual to 999\n"
          ]
        }
      ]
    },
    {
      "cell_type": "code",
      "source": [
        "mulya=int(input(\"Moolya \"))\n",
        "if(mulya<=1000):print(\"aukaat k andar wala maal\")\n",
        "else:\n",
        "  print(\"jaa be gareeb\")"
      ],
      "metadata": {
        "colab": {
          "base_uri": "https://localhost:8080/"
        },
        "id": "yFM2WPxKb2k_",
        "outputId": "5effe1b3-6c36-4c72-8c51-e9c0c8596cad"
      },
      "execution_count": 34,
      "outputs": [
        {
          "output_type": "stream",
          "name": "stdout",
          "text": [
            "Moolya 1500\n",
            "jaa be gareeb\n"
          ]
        }
      ]
    },
    {
      "cell_type": "code",
      "source": [],
      "metadata": {
        "id": "MPYIBfiMcfFt"
      },
      "execution_count": 34,
      "outputs": []
    }
  ]
}