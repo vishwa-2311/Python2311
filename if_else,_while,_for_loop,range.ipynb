{
  "nbformat": 4,
  "nbformat_minor": 0,
  "metadata": {
    "colab": {
      "provenance": [],
      "authorship_tag": "ABX9TyMZjsoBJN1L2BfXi81bij5E",
      "include_colab_link": true
    },
    "kernelspec": {
      "name": "python3",
      "display_name": "Python 3"
    },
    "language_info": {
      "name": "python"
    }
  },
  "cells": [
    {
      "cell_type": "markdown",
      "metadata": {
        "id": "view-in-github",
        "colab_type": "text"
      },
      "source": [
        "<a href=\"https://colab.research.google.com/github/vishwa-2311/Python2311/blob/main/if_else%2C_while%2C_for_loop%2Crange.ipynb\" target=\"_parent\"><img src=\"https://colab.research.google.com/assets/colab-badge.svg\" alt=\"Open In Colab\"/></a>"
      ]
    },
    {
      "cell_type": "code",
      "execution_count": null,
      "metadata": {
        "id": "WVCXPcv6yUdV"
      },
      "outputs": [],
      "source": [
        "a=10\n",
        "if a>10:\n",
        "  pass"
      ]
    },
    {
      "cell_type": "code",
      "source": [
        "a>10"
      ],
      "metadata": {
        "colab": {
          "base_uri": "https://localhost:8080/"
        },
        "id": "r_G4-ABuzGap",
        "outputId": "7014f310-94ce-48d4-e994-95bd2e68ca25"
      },
      "execution_count": null,
      "outputs": [
        {
          "output_type": "execute_result",
          "data": {
            "text/plain": [
              "False"
            ]
          },
          "metadata": {},
          "execution_count": 2
        }
      ]
    },
    {
      "cell_type": "code",
      "source": [
        "a=10\n",
        "if a>10:\n",
        "  print(\"this will execute once a is greater than 10\")"
      ],
      "metadata": {
        "id": "B8FJ3ms4zKRm"
      },
      "execution_count": null,
      "outputs": []
    },
    {
      "cell_type": "code",
      "source": [
        "a=10\n",
        "if a>10:\n",
        "  print(\"this will execute once a is greater than 10\")\n",
        "else:\n",
        "    print(\"this will ececute once if will not be able to perform\")"
      ],
      "metadata": {
        "colab": {
          "base_uri": "https://localhost:8080/"
        },
        "id": "qlYXzf46zMCE",
        "outputId": "321d1532-899c-4642-ed33-fdde80776eaf"
      },
      "execution_count": null,
      "outputs": [
        {
          "output_type": "stream",
          "name": "stdout",
          "text": [
            "this will ececute once if will not be able to perform\n"
          ]
        }
      ]
    },
    {
      "cell_type": "code",
      "source": [
        "if a>10:\n",
        "  print(\"this will execute once a is greater than 10\")\n",
        "elif a<=10:\n",
        "  print(\"this is trying to check a condition for a where a could be 10 0r lesser\")\n",
        "else:\n",
        "  print(\"this will execute once if and elif will not be able to perform\")"
      ],
      "metadata": {
        "colab": {
          "base_uri": "https://localhost:8080/"
        },
        "id": "cOjiMugC0fxw",
        "outputId": "11c77a4d-8fac-410e-ba12-0746de387c3f"
      },
      "execution_count": null,
      "outputs": [
        {
          "output_type": "stream",
          "name": "stdout",
          "text": [
            "this is trying to check a condition for a where a could be 10 0r lesser\n"
          ]
        }
      ]
    },
    {
      "cell_type": "code",
      "source": [
        "a=int(input(\"enter a value for a\"))\n",
        "if a>10:\n",
        "  print(\"this will exe cute onve a is greater than 10\")\n",
        "elif a<=10:\n",
        "  print(\"this is trying to check condition for a where a could be 10 or lesser\")\n",
        "else:\n",
        "  print(\"this will execute once if and elif will not be able to perform\")"
      ],
      "metadata": {
        "colab": {
          "base_uri": "https://localhost:8080/"
        },
        "id": "WF5JYkTg1Xv2",
        "outputId": "ad87ff56-5229-42c6-ef71-c73e1af986f0"
      },
      "execution_count": null,
      "outputs": [
        {
          "output_type": "stream",
          "name": "stdout",
          "text": [
            "enter a value for a2\n",
            "this is trying to check condition for a where a could be 10 or lesser\n"
          ]
        }
      ]
    },
    {
      "cell_type": "code",
      "source": [
        "n=10\n",
        "i=1\n",
        "\n",
        "while i<n:\n",
        "  print(i)\n",
        "  i=i+1"
      ],
      "metadata": {
        "colab": {
          "base_uri": "https://localhost:8080/"
        },
        "id": "kPfzkpeU14jo",
        "outputId": "9be8bc34-af3f-4ea9-bab3-0ae8f20e9b75"
      },
      "execution_count": null,
      "outputs": [
        {
          "output_type": "stream",
          "name": "stdout",
          "text": [
            "1\n",
            "2\n",
            "3\n",
            "4\n",
            "5\n",
            "6\n",
            "7\n",
            "8\n",
            "9\n"
          ]
        }
      ]
    },
    {
      "cell_type": "code",
      "source": [
        "n=10\n",
        "i=1\n",
        "while i<n:\n",
        "  print(i)\n",
        "  i=i+1\n",
        "else:\n",
        "  print(\"this will be executed once while will complete it successfully\")"
      ],
      "metadata": {
        "colab": {
          "base_uri": "https://localhost:8080/"
        },
        "id": "V3prLBkA3QqH",
        "outputId": "fa5537ef-b162-4da8-e8ec-65d2dabcc078"
      },
      "execution_count": null,
      "outputs": [
        {
          "output_type": "stream",
          "name": "stdout",
          "text": [
            "1\n",
            "2\n",
            "3\n",
            "4\n",
            "5\n",
            "6\n",
            "7\n",
            "8\n",
            "9\n",
            "this will be executed once while will complete it successfully\n"
          ]
        }
      ]
    },
    {
      "cell_type": "code",
      "source": [
        "n=10\n",
        "i=1\n",
        "\n",
        "while i<n:\n",
        "  print(i)\n",
        "  i=i+1\n",
        "  if i==3:\n",
        "    break\n",
        "else :\n",
        "  print(\"this will be executed once while complete it successfully\")"
      ],
      "metadata": {
        "colab": {
          "base_uri": "https://localhost:8080/"
        },
        "id": "rekAD4Nu4rQR",
        "outputId": "015ea8fc-0023-43cb-cbb0-f55e3b79b5de"
      },
      "execution_count": null,
      "outputs": [
        {
          "output_type": "stream",
          "name": "stdout",
          "text": [
            "1\n",
            "2\n"
          ]
        }
      ]
    },
    {
      "cell_type": "code",
      "source": [
        "n=10\n",
        "i=1\n",
        "\n",
        "while i<n:\n",
        "  print(i)\n",
        "  i=i+1\n",
        "  if i==3:\n",
        "    continue\n",
        "  print(i)\n",
        "else:\n",
        "    print(\"this will be executed once while will complete it successfully\")"
      ],
      "metadata": {
        "id": "_WaU-qpr5Zn3",
        "colab": {
          "base_uri": "https://localhost:8080/"
        },
        "outputId": "728e34da-592d-4881-8fe1-8b973e229904"
      },
      "execution_count": null,
      "outputs": [
        {
          "output_type": "stream",
          "name": "stdout",
          "text": [
            "1\n",
            "2\n",
            "2\n",
            "3\n",
            "4\n",
            "4\n",
            "5\n",
            "5\n",
            "6\n",
            "6\n",
            "7\n",
            "7\n",
            "8\n",
            "8\n",
            "9\n",
            "9\n",
            "10\n",
            "this will be executed once while will complete it successfully\n"
          ]
        }
      ]
    },
    {
      "cell_type": "code",
      "source": [
        "s=\"vishwa\""
      ],
      "metadata": {
        "id": "MAi5x5V8mI7G"
      },
      "execution_count": null,
      "outputs": []
    },
    {
      "cell_type": "code",
      "source": [
        "for i in s:\n",
        "  print(i)"
      ],
      "metadata": {
        "colab": {
          "base_uri": "https://localhost:8080/"
        },
        "id": "R4REl6tJq7Ad",
        "outputId": "83bbb3c4-d5b8-4fc6-8475-8625482588a8"
      },
      "execution_count": null,
      "outputs": [
        {
          "output_type": "stream",
          "name": "stdout",
          "text": [
            "v\n",
            "i\n",
            "s\n",
            "h\n",
            "w\n",
            "a\n"
          ]
        }
      ]
    },
    {
      "cell_type": "code",
      "source": [
        "l=[23,45,67,\"prince\",5+6j]"
      ],
      "metadata": {
        "id": "6Vl-fEpWrGEc"
      },
      "execution_count": null,
      "outputs": []
    },
    {
      "cell_type": "code",
      "source": [
        "for j in l:\n",
        "  print(j)"
      ],
      "metadata": {
        "colab": {
          "base_uri": "https://localhost:8080/"
        },
        "id": "6WOnzlCNsTDZ",
        "outputId": "0d382677-9115-48ed-b381-93f06b953a6f"
      },
      "execution_count": null,
      "outputs": [
        {
          "output_type": "stream",
          "name": "stdout",
          "text": [
            "23\n",
            "45\n",
            "67\n",
            "prince\n",
            "(5+6j)\n"
          ]
        }
      ]
    },
    {
      "cell_type": "code",
      "source": [
        "for j in l:\n",
        "  print(j)\n",
        "else:\n",
        "  print(\"this will be executed once for loop will complete itself successfully\")"
      ],
      "metadata": {
        "colab": {
          "base_uri": "https://localhost:8080/"
        },
        "id": "gyMW8ClosZT9",
        "outputId": "4d4733fd-cc09-4e72-db7f-dccf959f0c96"
      },
      "execution_count": null,
      "outputs": [
        {
          "output_type": "stream",
          "name": "stdout",
          "text": [
            "23\n",
            "45\n",
            "67\n",
            "prince\n",
            "(5+6j)\n",
            "this will be executed once for loop will complete itself successfully\n"
          ]
        }
      ]
    },
    {
      "cell_type": "code",
      "source": [
        "for j in l:\n",
        "  print(j)\n",
        "  if j==\"prince\":\n",
        "    break\n",
        "  else:\n",
        "    print(\"this will be executed once for loop will complete itself successfully\")"
      ],
      "metadata": {
        "colab": {
          "base_uri": "https://localhost:8080/"
        },
        "id": "KbkTILnjs2eC",
        "outputId": "d06de579-a7f3-4567-d788-06a2bc78e3cb"
      },
      "execution_count": null,
      "outputs": [
        {
          "output_type": "stream",
          "name": "stdout",
          "text": [
            "23\n",
            "this will be executed once for loop will complete itself successfully\n",
            "45\n",
            "this will be executed once for loop will complete itself successfully\n",
            "67\n",
            "this will be executed once for loop will complete itself successfully\n",
            "prince\n"
          ]
        }
      ]
    },
    {
      "cell_type": "code",
      "source": [
        "range(10)"
      ],
      "metadata": {
        "colab": {
          "base_uri": "https://localhost:8080/"
        },
        "id": "ary_1J6QtIKc",
        "outputId": "899737cf-1e5e-4752-f781-a56851956a01"
      },
      "execution_count": null,
      "outputs": [
        {
          "output_type": "execute_result",
          "data": {
            "text/plain": [
              "range(0, 10)"
            ]
          },
          "metadata": {},
          "execution_count": 16
        }
      ]
    },
    {
      "cell_type": "code",
      "source": [
        "list(range(10))"
      ],
      "metadata": {
        "colab": {
          "base_uri": "https://localhost:8080/"
        },
        "id": "cO1CVYxkt7hb",
        "outputId": "d022b064-fae6-4cc8-803a-ea1a14016749"
      },
      "execution_count": null,
      "outputs": [
        {
          "output_type": "execute_result",
          "data": {
            "text/plain": [
              "[0, 1, 2, 3, 4, 5, 6, 7, 8, 9]"
            ]
          },
          "metadata": {},
          "execution_count": 17
        }
      ]
    },
    {
      "cell_type": "code",
      "source": [
        "list(range(5,14))"
      ],
      "metadata": {
        "colab": {
          "base_uri": "https://localhost:8080/"
        },
        "id": "FJdJbXhmuAcx",
        "outputId": "24341149-5d3b-4d89-ce71-6afbd4c43260"
      },
      "execution_count": null,
      "outputs": [
        {
          "output_type": "execute_result",
          "data": {
            "text/plain": [
              "[5, 6, 7, 8, 9, 10, 11, 12, 13]"
            ]
          },
          "metadata": {},
          "execution_count": 19
        }
      ]
    }
  ]
}